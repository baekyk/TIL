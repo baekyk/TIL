{
 "cells": [
  {
   "cell_type": "markdown",
   "id": "d8b3815e",
   "metadata": {},
   "source": [
    "# 1978번 소수 찾기\n",
    "주어진 수 N개 중에서 소수가 몇 개인지 찾아서 출력하는 프로그램을 작성하시오."
   ]
  },
  {
   "cell_type": "code",
   "execution_count": 10,
   "id": "cfe05067",
   "metadata": {
    "ExecuteTime": {
     "end_time": "2022-04-30T06:23:47.420880Z",
     "start_time": "2022-04-30T06:23:39.444703Z"
    }
   },
   "outputs": [
    {
     "name": "stdout",
     "output_type": "stream",
     "text": [
      "5\n",
      "2 3 5 7 11\n",
      "5\n"
     ]
    }
   ],
   "source": [
    "n = int(input())\n",
    "num_list = map(int,input().split())\n",
    "\n",
    "prime = 0\n",
    "for num in num_list:\n",
    "    cnt = 0\n",
    "    if num > 1:\n",
    "        for i in range(2,num):\n",
    "            if num%i == 0:\n",
    "                cnt += 1\n",
    "        if cnt == 0:\n",
    "            prime += 1\n",
    "print(prime)"
   ]
  },
  {
   "cell_type": "markdown",
   "id": "104bb5a2",
   "metadata": {},
   "source": [
    "## 풀이\n",
    "\n",
    "1. 숫자 num 을 2 부터 num-1 까지 순환하면서 나눠서 나머지가 0 이 있는 것은 소수가 아니므로 cnt를 +1 시킨다\n",
    "1. cnt가 0인 것이 소수이므로 그것의 갯수를 센다"
   ]
  },
  {
   "cell_type": "markdown",
   "id": "05e1d4a9",
   "metadata": {},
   "source": [
    "# 1085번 직사각형에서 탈출\n",
    "한수는 지금 (x, y)에 있다. 직사각형은 각 변이 좌표축에 평행하고, 왼쪽 아래 꼭짓점은 (0, 0), 오른쪽 위 꼭짓점은 (w, h)에 있다. 직사각형의 경계선까지 가는 거리의 최솟값을 구하는 프로그램을 작성하시오."
   ]
  },
  {
   "cell_type": "code",
   "execution_count": 20,
   "id": "72b870dd",
   "metadata": {
    "ExecuteTime": {
     "end_time": "2022-04-30T06:38:41.057472Z",
     "start_time": "2022-04-30T06:38:36.633105Z"
    },
    "scrolled": true
   },
   "outputs": [
    {
     "name": "stdout",
     "output_type": "stream",
     "text": [
      "161 181 762 375\n",
      "161\n"
     ]
    }
   ],
   "source": [
    "a, b, c, d = input().split()\n",
    "x = int(a)\n",
    "y  = int(b)\n",
    "w = int(c)\n",
    "h = int(d)\n",
    "if w-x >= x:\n",
    "    a = x\n",
    "elif w-x < x:\n",
    "    a = w-x\n",
    "if h-y >= y:\n",
    "    b = y\n",
    "elif h-y < y:\n",
    "    b = h-y\n",
    "if a < b:\n",
    "    print(a)\n",
    "elif a>=b:\n",
    "    print(b)"
   ]
  },
  {
   "cell_type": "markdown",
   "id": "8733081a",
   "metadata": {},
   "source": [
    "## 풀이\n",
    "현재 위치 x,y 에서 x축 y축 방향으로의 길이와  \n",
    "직사각형 오른쪽, 위쪽으로의 길이를 비교하여\n",
    "가장 짧은 길이를 선택"
   ]
  },
  {
   "cell_type": "code",
   "execution_count": null,
   "id": "56e80c48",
   "metadata": {},
   "outputs": [],
   "source": []
  }
 ],
 "metadata": {
  "kernelspec": {
   "display_name": "Python 3 (ipykernel)",
   "language": "python",
   "name": "python3"
  },
  "language_info": {
   "codemirror_mode": {
    "name": "ipython",
    "version": 3
   },
   "file_extension": ".py",
   "mimetype": "text/x-python",
   "name": "python",
   "nbconvert_exporter": "python",
   "pygments_lexer": "ipython3",
   "version": "3.9.7"
  },
  "toc": {
   "base_numbering": 1,
   "nav_menu": {},
   "number_sections": true,
   "sideBar": true,
   "skip_h1_title": false,
   "title_cell": "Table of Contents",
   "title_sidebar": "Contents",
   "toc_cell": false,
   "toc_position": {},
   "toc_section_display": true,
   "toc_window_display": false
  }
 },
 "nbformat": 4,
 "nbformat_minor": 5
}
