{
 "cells": [
  {
   "cell_type": "markdown",
   "id": "208e184e",
   "metadata": {},
   "source": [
    "## 1932번 정수삼각형\n",
    "위 그림은 크기가 5인 정수 삼각형의 한 모습이다.\n",
    "\n",
    "맨 위층 7부터 시작해서 아래에 있는 수 중 하나를 선택하여 아래층으로 내려올 때, 이제까지 선택된 수의 합이 최대가 되는 경로를 구하는 프로그램을 작성하라. 아래층에 있는 수는 현재 층에서 선택된 수의 대각선 왼쪽 또는 대각선 오른쪽에 있는 것 중에서만 선택할 수 있다.\n",
    "\n",
    "삼각형의 크기는 1 이상 500 이하이다. 삼각형을 이루고 있는 각 수는 모두 정수이며, 범위는 0 이상 9999 이하이다."
   ]
  },
  {
   "cell_type": "code",
   "execution_count": 4,
   "id": "7b1189be",
   "metadata": {
    "ExecuteTime": {
     "end_time": "2022-05-08T07:30:11.810954Z",
     "start_time": "2022-05-08T07:30:02.475174Z"
    }
   },
   "outputs": [
    {
     "name": "stdout",
     "output_type": "stream",
     "text": [
      "5\n",
      "7\n",
      "3 8\n",
      "8 1 0\n",
      " 2 7 4 4\n",
      " 4 5 2 6 5\n",
      "30\n"
     ]
    }
   ],
   "source": [
    "n = int(input())\n",
    "nums = []\n",
    "for i in range(n):\n",
    "    nums.append(list(map(int,input().split())))\n",
    "\n",
    "for i in range(1,n):\n",
    "    for j in range(len(nums[i])):\n",
    "        if j==0:\n",
    "            nums[i][j] = nums[i][j] + nums[i-1][j]\n",
    "        elif j==len(nums[i])-1:\n",
    "            nums[i][j] = nums[i][j] + nums[i-1][j-1]\n",
    "        else:\n",
    "            nums[i][j] = max(nums[i-1][j-1],nums[i-1][j])+nums[i][j]\n",
    "print(max(nums[n-1]))"
   ]
  },
  {
   "cell_type": "markdown",
   "id": "e287e9db",
   "metadata": {},
   "source": [
    "## 1149번 RGB거리\n",
    "RGB거리에는 집이 N개 있다. 거리는 선분으로 나타낼 수 있고, 1번 집부터 N번 집이 순서대로 있다.\n",
    "\n",
    "집은 빨강, 초록, 파랑 중 하나의 색으로 칠해야 한다. 각각의 집을 빨강, 초록, 파랑으로 칠하는 비용이 주어졌을 때, 아래 규칙을 만족하면서 모든 집을 칠하는 비용의 최솟값을 구해보자.\n",
    "\n",
    "- 1번 집의 색은 2번 집의 색과 같지 않아야 한다.\n",
    "- N번 집의 색은 N-1번 집의 색과 같지 않아야 한다.\n",
    "- i(2 ≤ i ≤ N-1)번 집의 색은 i-1번, i+1번 집의 색과 같지 않아야 한다."
   ]
  },
  {
   "cell_type": "code",
   "execution_count": 34,
   "id": "49b3cacc",
   "metadata": {
    "ExecuteTime": {
     "end_time": "2022-05-08T08:35:28.587505Z",
     "start_time": "2022-05-08T08:35:18.234970Z"
    },
    "scrolled": false
   },
   "outputs": [
    {
     "name": "stdout",
     "output_type": "stream",
     "text": [
      "3\n",
      "1 100 100\n",
      "100 100 100\n",
      "1 100 100\n",
      "102\n"
     ]
    }
   ],
   "source": [
    "n = int(input())\n",
    "color = []\n",
    "mini = 0\n",
    "for i in range(n):\n",
    "    color.append(list(map(int,input().split())))\n",
    "    \n",
    "idx = 0\n",
    "for i in range(1,n):\n",
    "    color[i][0] = min(color[i-1][1], color[i-1][2]) + color[i][0]\n",
    "    color[i][1] = min(color[i-1][0], color[i-1][2]) + color[i][1]\n",
    "    color[i][2] = min(color[i-1][0], color[i-1][1]) + color[i][2]\n",
    "print(min(color[n-1][0],color[n-1][1],color[n-1][2]))"
   ]
  },
  {
   "cell_type": "markdown",
   "id": "c083c460",
   "metadata": {},
   "source": [
    "### 풀이\n",
    "1. 빨강, 초록, 파랑 각각의 경우 i-1째 집과 다른 색으로 칠할때 더 적은 비용을 고르는 값을 구한뒤 그 값들 중 최소값을 출력한다"
   ]
  }
 ],
 "metadata": {
  "kernelspec": {
   "display_name": "Python 3 (ipykernel)",
   "language": "python",
   "name": "python3"
  },
  "language_info": {
   "codemirror_mode": {
    "name": "ipython",
    "version": 3
   },
   "file_extension": ".py",
   "mimetype": "text/x-python",
   "name": "python",
   "nbconvert_exporter": "python",
   "pygments_lexer": "ipython3",
   "version": "3.9.7"
  },
  "toc": {
   "base_numbering": 1,
   "nav_menu": {},
   "number_sections": true,
   "sideBar": true,
   "skip_h1_title": false,
   "title_cell": "Table of Contents",
   "title_sidebar": "Contents",
   "toc_cell": false,
   "toc_position": {},
   "toc_section_display": true,
   "toc_window_display": false
  }
 },
 "nbformat": 4,
 "nbformat_minor": 5
}
