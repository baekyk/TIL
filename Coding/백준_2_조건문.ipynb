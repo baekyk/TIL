{
 "cells": [
  {
   "cell_type": "markdown",
   "id": "9d211b59",
   "metadata": {},
   "source": [
    "# 입출력과 사칙연산"
   ]
  },
  {
   "cell_type": "markdown",
   "id": "eced9ccb",
   "metadata": {},
   "source": [
    "## 2588번 곱셈"
   ]
  },
  {
   "cell_type": "code",
   "execution_count": 5,
   "id": "900d2d31",
   "metadata": {
    "scrolled": true
   },
   "outputs": [
    {
     "name": "stdout",
     "output_type": "stream",
     "text": [
      "472\n",
      "385\n",
      "2360\n",
      "3776\n",
      "1416\n",
      "181720\n"
     ]
    }
   ],
   "source": [
    "a = []\n",
    "b = []\n",
    "a = input()\n",
    "b = input()\n",
    "c = int(a)*int(b[-1])\n",
    "d = int(a)*int(b[-2])\n",
    "e = int(a)*int(b[-3])\n",
    "print(c)\n",
    "print(d)\n",
    "print(e)\n",
    "print(c+d*10+e*100)"
   ]
  },
  {
   "cell_type": "markdown",
   "id": "35f3dc88",
   "metadata": {},
   "source": [
    "---"
   ]
  },
  {
   "cell_type": "markdown",
   "id": "523ccd0e",
   "metadata": {},
   "source": [
    "# 조건문"
   ]
  },
  {
   "cell_type": "markdown",
   "id": "7acd436f",
   "metadata": {},
   "source": [
    "## 1330번 두 수 비교하기 "
   ]
  },
  {
   "cell_type": "code",
   "execution_count": 3,
   "id": "b64bb895",
   "metadata": {},
   "outputs": [
    {
     "name": "stdout",
     "output_type": "stream",
     "text": [
      "<\n"
     ]
    }
   ],
   "source": [
    "a, b = input().split()\n",
    "if int(a) > int(b):\n",
    "    print(\">\")\n",
    "elif int(a) < int(b):\n",
    "    print(\"<\")\n",
    "elif int(a) == int(b):\n",
    "    print(\"==\")"
   ]
  },
  {
   "cell_type": "markdown",
   "id": "632cc196",
   "metadata": {},
   "source": [
    "## 9498번 시험성적"
   ]
  },
  {
   "cell_type": "code",
   "execution_count": 15,
   "id": "8935fa81",
   "metadata": {},
   "outputs": [
    {
     "name": "stdout",
     "output_type": "stream",
     "text": [
      "76\n",
      "C\n"
     ]
    }
   ],
   "source": [
    "a = int(input())\n",
    "if (a>=90) & (a<=100):\n",
    "    print(\"A\")\n",
    "elif (a>=80) & (a<90):\n",
    "    print(\"B\")\n",
    "elif (a>=70) & (a<80):\n",
    "    print(\"C\")\n",
    "elif (a>=60) & (a<70):\n",
    "    print(\"D\")\n",
    "else:\n",
    "    print(\"F\")"
   ]
  },
  {
   "cell_type": "markdown",
   "id": "f81dd09a",
   "metadata": {},
   "source": [
    "## 2753번 윤년"
   ]
  },
  {
   "cell_type": "code",
   "execution_count": 17,
   "id": "c396f6fb",
   "metadata": {},
   "outputs": [
    {
     "name": "stdout",
     "output_type": "stream",
     "text": [
      "1999\n",
      "0\n"
     ]
    }
   ],
   "source": [
    "a = int(input())\n",
    "if (a%4==0) & ((a%100!=0)|(a%400==0)):\n",
    "    print(1)\n",
    "else:\n",
    "    print(0)"
   ]
  },
  {
   "cell_type": "markdown",
   "id": "40be4d15",
   "metadata": {},
   "source": [
    "## 14681번 사분면 고르기"
   ]
  },
  {
   "cell_type": "code",
   "execution_count": 21,
   "id": "98bb5cb2",
   "metadata": {},
   "outputs": [
    {
     "name": "stdout",
     "output_type": "stream",
     "text": [
      "9\n",
      "-13\n",
      "4\n"
     ]
    }
   ],
   "source": [
    "a = int(input())\n",
    "b = int(input())\n",
    "if (a>0)&(b>0):\n",
    "    print(1)\n",
    "elif (a<0)&(b>0):\n",
    "    print(2)\n",
    "elif (a<0)&(b<0):\n",
    "    print(3)\n",
    "elif (a>0)&(b<0):\n",
    "    print(4)"
   ]
  },
  {
   "cell_type": "markdown",
   "id": "7c856a52",
   "metadata": {},
   "source": [
    "## 2884번 알람시계"
   ]
  },
  {
   "cell_type": "code",
   "execution_count": 45,
   "id": "e4e3d5f7",
   "metadata": {},
   "outputs": [
    {
     "name": "stdout",
     "output_type": "stream",
     "text": [
      "23 40\n",
      "22 55\n"
     ]
    }
   ],
   "source": [
    "a, b = input().split()\n",
    "if int(b)>=45:\n",
    "    b = int(b)-45\n",
    "    print(a+' '+str(b))\n",
    "elif (int(a)>0) & (int(b)<45):\n",
    "    a = int(a)-1\n",
    "    b = 60-(45 - int(b))\n",
    "    print(str(a)+' '+str(b))\n",
    "elif (int(a)==0) & (int(b)<45):\n",
    "    a = 23\n",
    "    b = 60-(45 - int(b))\n",
    "    print(str(a)+' '+str(b))"
   ]
  },
  {
   "cell_type": "markdown",
   "id": "8f0a0440",
   "metadata": {},
   "source": [
    "## 2525번 오븐시계"
   ]
  },
  {
   "cell_type": "code",
   "execution_count": 63,
   "id": "9cd6b1c9",
   "metadata": {},
   "outputs": [
    {
     "name": "stdout",
     "output_type": "stream",
     "text": [
      "23 48\n",
      "25\n",
      "0 13\n"
     ]
    }
   ],
   "source": [
    "a, b = input().split()\n",
    "c = int(input())\n",
    "\n",
    "d = ((int(b)+c))//60\n",
    "e = ((int(b)+c))%60\n",
    "if d==0:\n",
    "    print(int(a),int(b)+c)\n",
    "elif (d!=0):\n",
    "    if (int(a)+d) < 24:\n",
    "        print(int(a)+d,e)\n",
    "    else:\n",
    "        print((int(a)+d)-24,e)"
   ]
  },
  {
   "cell_type": "markdown",
   "id": "12cc1dfd",
   "metadata": {},
   "source": [
    "## 2480번 주사위 세개"
   ]
  },
  {
   "cell_type": "code",
   "execution_count": 80,
   "id": "108332eb",
   "metadata": {},
   "outputs": [
    {
     "name": "stdout",
     "output_type": "stream",
     "text": [
      "6 2 5\n",
      "600\n"
     ]
    }
   ],
   "source": [
    "a, b, c = input().split()\n",
    "if a==b==c:\n",
    "    print(10000+(int(a)*1000))\n",
    "elif (a==b)&(a!=c):\n",
    "    print(1000 + (int(a)*100))\n",
    "elif (b==c)&(b!=a):\n",
    "    print(1000 + (int(b)*100))\n",
    "elif (a==c)&(a!=b):\n",
    "    print(1000 + (int(a)*100))\n",
    "elif (a!=b) & (b!=c) & (c!=a):\n",
    "    d = [a, b, c]\n",
    "    d.sort()\n",
    "    print(int(d[2])*100)"
   ]
  }
 ],
 "metadata": {
  "kernelspec": {
   "display_name": "Python 3 (ipykernel)",
   "language": "python",
   "name": "python3"
  },
  "language_info": {
   "codemirror_mode": {
    "name": "ipython",
    "version": 3
   },
   "file_extension": ".py",
   "mimetype": "text/x-python",
   "name": "python",
   "nbconvert_exporter": "python",
   "pygments_lexer": "ipython3",
   "version": "3.9.7"
  }
 },
 "nbformat": 4,
 "nbformat_minor": 5
}
