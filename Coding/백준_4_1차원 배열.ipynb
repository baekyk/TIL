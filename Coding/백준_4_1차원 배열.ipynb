{
 "cells": [
  {
   "cell_type": "markdown",
   "id": "bd88b436",
   "metadata": {},
   "source": [
    "## 10818번 최소, 최대\n",
    "N개의 정수가 주어진다. 이때, 최솟값과 최댓값을 구하는 프로그램을 작성하시오."
   ]
  },
  {
   "cell_type": "code",
   "execution_count": 1,
   "id": "d28a6626",
   "metadata": {
    "ExecuteTime": {
     "end_time": "2022-04-25T11:55:03.526755Z",
     "start_time": "2022-04-25T11:54:59.230571Z"
    },
    "scrolled": true
   },
   "outputs": [
    {
     "name": "stdout",
     "output_type": "stream",
     "text": [
      "5\n",
      "20 10 35 30 7\n",
      "7 35\n"
     ]
    }
   ],
   "source": [
    "n = int(input())\n",
    "nums = input().split()\n",
    "for i in range(n):\n",
    "    nums[i] = int(nums[i])\n",
    "nums.sort()\n",
    "print(nums[0],end=' ')\n",
    "print(nums[-1])"
   ]
  },
  {
   "cell_type": "markdown",
   "id": "28b4cdff",
   "metadata": {},
   "source": [
    "## 2562번 최댓값\n",
    "9개의 서로 다른 자연수가 주어질 때, 이들 중 최댓값을 찾고 그 최댓값이 몇 번째 수인지를 구하는 프로그램을 작성하시오.\n",
    "\n",
    "예를 들어, 서로 다른 9개의 자연수\n",
    "\n",
    "3, 29, 38, 12, 57, 74, 40, 85, 61\n",
    "\n",
    "이 주어지면, 이들 중 최댓값은 85이고, 이 값은 8번째 수이다.\n",
    "\n",
    ">확인 필요"
   ]
  },
  {
   "cell_type": "code",
   "execution_count": 34,
   "id": "13261a7b",
   "metadata": {
    "ExecuteTime": {
     "end_time": "2022-04-25T12:27:23.038531Z",
     "start_time": "2022-04-25T12:27:09.739169Z"
    },
    "scrolled": true
   },
   "outputs": [
    {
     "name": "stdout",
     "output_type": "stream",
     "text": [
      "3\n",
      "17\n",
      "28\n",
      "38\n",
      "50\n",
      "46\n",
      "51\n",
      "70\n",
      "60\n",
      "[3, 17, 28, 38, 50, 46, 51, 70, 60]\n"
     ]
    }
   ],
   "source": [
    "n = []\n",
    "n2 = []\n",
    "for i in range(9):\n",
    "    a=int(input())\n",
    "    n.append(a)\n",
    "\n",
    "n2 = n\n",
    "n.sort()\n",
    "max = n[-1]\n",
    "idx = n2.index(max)\n",
    "print(max)\n",
    "print(idx)"
   ]
  },
  {
   "cell_type": "markdown",
   "id": "2ef24543",
   "metadata": {},
   "source": [
    "## 2577번 숫자의 개수 \n",
    "세 개의 자연수 A, B, C가 주어질 때 A × B × C를 계산한 결과에 0부터 9까지 각각의 숫자가 몇 번씩 쓰였는지를 구하는 프로그램을 작성하시오."
   ]
  },
  {
   "cell_type": "code",
   "execution_count": 46,
   "id": "a1deeffe",
   "metadata": {
    "ExecuteTime": {
     "end_time": "2022-04-25T12:45:01.439528Z",
     "start_time": "2022-04-25T12:44:54.729870Z"
    }
   },
   "outputs": [
    {
     "name": "stdout",
     "output_type": "stream",
     "text": [
      "150\n",
      "266\n",
      "427\n",
      "3\n",
      "1\n",
      "0\n",
      "2\n",
      "0\n",
      "0\n",
      "0\n",
      "2\n",
      "0\n"
     ]
    }
   ],
   "source": [
    "a = int(input())\n",
    "b = int(input())\n",
    "c = int(input())\n",
    "num = list(str(a*b*c))\n",
    "\n",
    "for i in range(10):\n",
    "    print(num.count(str(i)))"
   ]
  },
  {
   "cell_type": "markdown",
   "id": "40a77517",
   "metadata": {},
   "source": [
    "## 3052번 나머지 \n",
    "수 10개를 입력받은 뒤, 이를 42로 나눈 나머지를 구한다. 그 다음 서로 다른 값이 몇 개 있는지 출력하는 프로그램을 작성하시오."
   ]
  },
  {
   "cell_type": "code",
   "execution_count": 49,
   "id": "004076d3",
   "metadata": {
    "ExecuteTime": {
     "end_time": "2022-04-25T12:51:04.454564Z",
     "start_time": "2022-04-25T12:50:53.729526Z"
    }
   },
   "outputs": [
    {
     "name": "stdout",
     "output_type": "stream",
     "text": [
      "42\n",
      "84\n",
      "252\n",
      "420\n",
      "840\n",
      "126\n",
      "42\n",
      "84\n",
      "420\n",
      "126\n",
      "1\n"
     ]
    }
   ],
   "source": [
    "n = []\n",
    "for i in range(10):\n",
    "    a=int(input())\n",
    "    a= a%42\n",
    "    n.append(a)\n",
    "print(len(set(n)))"
   ]
  },
  {
   "cell_type": "markdown",
   "id": "dc9da6c8",
   "metadata": {},
   "source": [
    "## 1546번 평균\n",
    "세준이는 기말고사를 망쳤다. 세준이는 점수를 조작해서 집에 가져가기로 했다. 일단 세준이는 자기 점수 중에 최댓값을 골랐다. 이 값을 M이라고 한다. 그리고 나서 모든 점수를 점수/M*100으로 고쳤다.\n",
    "\n",
    "예를 들어, 세준이의 최고점이 70이고, 수학점수가 50이었으면 수학점수는 50/70*100이 되어 71.43점이 된다.\n",
    "\n",
    "세준이의 성적을 위의 방법대로 새로 계산했을 때, 새로운 평균을 구하는 프로그램을 작성하시오."
   ]
  },
  {
   "cell_type": "code",
   "execution_count": 57,
   "id": "e44175ee",
   "metadata": {
    "ExecuteTime": {
     "end_time": "2022-04-25T13:04:46.796188Z",
     "start_time": "2022-04-25T13:04:42.760457Z"
    }
   },
   "outputs": [
    {
     "name": "stdout",
     "output_type": "stream",
     "text": [
      "4\n",
      "1 100 100 100\n",
      "75.25\n"
     ]
    }
   ],
   "source": [
    "n = int(input())\n",
    "score = input().split()\n",
    "for i in range(n):\n",
    "    score[i] = int(score[i])\n",
    "score.sort()\n",
    "max = score[-1]\n",
    "for i in range(n):\n",
    "    score[i] = score[i]/max*100\n",
    "sum = 0\n",
    "for i in range(n):\n",
    "    sum = sum + score[i]\n",
    "print(sum/n)"
   ]
  },
  {
   "cell_type": "markdown",
   "id": "2e8c811a",
   "metadata": {},
   "source": [
    "## 8958번 OX퀴즈\n",
    "\"OOXXOXXOOO\"와 같은 OX퀴즈의 결과가 있다. O는 문제를 맞은 것이고, X는 문제를 틀린 것이다. 문제를 맞은 경우 그 문제의 점수는 그 문제까지 연속된 O의 개수가 된다. 예를 들어, 10번 문제의 점수는 3이 된다.\n",
    "\n",
    "\"OOXXOXXOOO\"의 점수는 1+2+0+0+1+0+0+1+2+3 = 10점이다.\n",
    "\n",
    "OX퀴즈의 결과가 주어졌을 때, 점수를 구하는 프로그램을 작성하시오."
   ]
  },
  {
   "cell_type": "code",
   "execution_count": 73,
   "id": "e53ca64d",
   "metadata": {
    "ExecuteTime": {
     "end_time": "2022-04-25T13:52:52.854708Z",
     "start_time": "2022-04-25T13:52:33.374096Z"
    }
   },
   "outputs": [
    {
     "name": "stdout",
     "output_type": "stream",
     "text": [
      "5\n",
      "OOXXOXXOOO\n",
      "10\n",
      "OOXXOOXXOO\n",
      "9\n",
      "OXOXOXOXOXOXOX\n",
      "7\n",
      "OOOOOOOOOO\n",
      "55\n",
      "OOOOXOOOOXOOOOX\n",
      "30\n"
     ]
    }
   ],
   "source": [
    "score = 0\n",
    "plus = 0\n",
    "n = int(input())\n",
    "for i in range(n):\n",
    "    a = list(input())\n",
    "    for ox in a:\n",
    "        if ox=='O':\n",
    "            plus = plus + 1\n",
    "            score = score + plus\n",
    "        elif ox=='X':\n",
    "            plus = 0\n",
    "    \n",
    "    print(score)\n",
    "    plus =0\n",
    "    score = 0"
   ]
  },
  {
   "cell_type": "markdown",
   "id": "b143721a",
   "metadata": {},
   "source": [
    "## 4344번 평균은 넘겠지"
   ]
  },
  {
   "cell_type": "code",
   "execution_count": 100,
   "id": "4e83c8f3",
   "metadata": {
    "ExecuteTime": {
     "end_time": "2022-04-25T14:27:05.048596Z",
     "start_time": "2022-04-25T14:26:56.974128Z"
    }
   },
   "outputs": [
    {
     "name": "stdout",
     "output_type": "stream",
     "text": [
      "1\n",
      "9 100 99 98 97 96 95 94 93 91\n",
      "55.556%\n"
     ]
    }
   ],
   "source": [
    "n = int(input())\n",
    "for i in range(n):\n",
    "    sum = 0\n",
    "    cnt = 0\n",
    "    score = input().split()\n",
    "    for j in range(1,int(score[0])+1):\n",
    "        sum = sum + int(score[j])\n",
    "    mean = sum /int(score[0])\n",
    "    for k in range(1,int(score[0])+1):\n",
    "        if int(score[k])>mean:\n",
    "            cnt = cnt+1\n",
    "        else:\n",
    "            pass\n",
    "    ratio = cnt / int(score[0])*100\n",
    "    print(\"%0.3f%%\"%ratio)"
   ]
  },
  {
   "cell_type": "code",
   "execution_count": 81,
   "id": "1b359c03",
   "metadata": {
    "ExecuteTime": {
     "end_time": "2022-04-25T14:08:59.571106Z",
     "start_time": "2022-04-25T14:08:55.605084Z"
    }
   },
   "outputs": [
    {
     "name": "stdout",
     "output_type": "stream",
     "text": [
      "1\n",
      "5 50 50 70 80 100\n"
     ]
    },
    {
     "data": {
      "text/plain": [
       "'50'"
      ]
     },
     "execution_count": 81,
     "metadata": {},
     "output_type": "execute_result"
    }
   ],
   "source": [
    "n = int(input())\n",
    "for i in range(n):\n",
    "    sum = 0\n",
    "    cnt = 0\n",
    "    score = input().split()\n",
    "score[2]"
   ]
  }
 ],
 "metadata": {
  "kernelspec": {
   "display_name": "Python 3 (ipykernel)",
   "language": "python",
   "name": "python3"
  },
  "language_info": {
   "codemirror_mode": {
    "name": "ipython",
    "version": 3
   },
   "file_extension": ".py",
   "mimetype": "text/x-python",
   "name": "python",
   "nbconvert_exporter": "python",
   "pygments_lexer": "ipython3",
   "version": "3.9.7"
  },
  "toc": {
   "base_numbering": 1,
   "nav_menu": {},
   "number_sections": true,
   "sideBar": true,
   "skip_h1_title": false,
   "title_cell": "Table of Contents",
   "title_sidebar": "Contents",
   "toc_cell": false,
   "toc_position": {},
   "toc_section_display": true,
   "toc_window_display": false
  }
 },
 "nbformat": 4,
 "nbformat_minor": 5
}
