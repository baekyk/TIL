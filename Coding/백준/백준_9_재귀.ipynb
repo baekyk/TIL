{
 "cells": [
  {
   "cell_type": "markdown",
   "id": "da5add0a",
   "metadata": {},
   "source": [
    "# 10872번 팩토리얼\n",
    "0보다 크거나 같은 정수 N이 주어진다. 이때, N!을 출력하는 프로그램을 작성하시오."
   ]
  },
  {
   "cell_type": "code",
   "execution_count": 4,
   "id": "9f429fbd",
   "metadata": {
    "ExecuteTime": {
     "end_time": "2022-04-30T06:43:49.170007Z",
     "start_time": "2022-04-30T06:43:47.152580Z"
    }
   },
   "outputs": [
    {
     "name": "stdout",
     "output_type": "stream",
     "text": [
      "5\n",
      "120\n"
     ]
    }
   ],
   "source": [
    "n = int(input())\n",
    "\n",
    "num = 1\n",
    "for i in range(1,n+1):\n",
    "    num = num*i\n",
    "print(num)"
   ]
  },
  {
   "cell_type": "markdown",
   "id": "ab5ea916",
   "metadata": {},
   "source": [
    "## 풀이\n",
    "n 부터 1씩 빼면서 모두 곱한다.  \n",
    "n도 포함되어야 하므로 for문을 range(1,n+1)로 한다"
   ]
  },
  {
   "cell_type": "markdown",
   "id": "412a297c",
   "metadata": {},
   "source": [
    "# 17478번 재귀함수가 뭔가요?"
   ]
  },
  {
   "cell_type": "code",
   "execution_count": 19,
   "id": "b7c56b00",
   "metadata": {
    "ExecuteTime": {
     "end_time": "2022-04-30T07:19:42.160019Z",
     "start_time": "2022-04-30T07:19:41.216235Z"
    }
   },
   "outputs": [
    {
     "name": "stdout",
     "output_type": "stream",
     "text": [
      "4\n",
      "어느 한 컴퓨터공학과 학생이 유명한 교수님을 찾아가 물었다.\n",
      "\"재귀함수가 뭔가요?\"\n",
      "\"잘 들어보게. 옛날옛날 한 산 꼭대기에 이세상 모든 지식을 통달한 선인이 있었어.\n",
      "마을 사람들은 모두 그 선인에게 수많은 질문을 했고, 모두 지혜롭게 대답해 주었지.\n",
      "그의 답은 대부분 옳았다고 하네. 그런데 어느 날, 그 선인에게 한 선비가 찾아와서 물었어.\"\n",
      "____\"재귀함수가 뭔가요?\"\n",
      "____\"잘 들어보게. 옛날옛날 한 산 꼭대기에 이세상 모든 지식을 통달한 선인이 있었어.\n",
      "____마을 사람들은 모두 그 선인에게 수많은 질문을 했고, 모두 지혜롭게 대답해 주었지.\n",
      "____그의 답은 대부분 옳았다고 하네. 그런데 어느 날, 그 선인에게 한 선비가 찾아와서 물었어.\"\n",
      "________\"재귀함수가 뭔가요?\"\n",
      "________\"잘 들어보게. 옛날옛날 한 산 꼭대기에 이세상 모든 지식을 통달한 선인이 있었어.\n",
      "________마을 사람들은 모두 그 선인에게 수많은 질문을 했고, 모두 지혜롭게 대답해 주었지.\n",
      "________그의 답은 대부분 옳았다고 하네. 그런데 어느 날, 그 선인에게 한 선비가 찾아와서 물었어.\"\n",
      "____________\"재귀함수가 뭔가요?\"\n",
      "____________\"잘 들어보게. 옛날옛날 한 산 꼭대기에 이세상 모든 지식을 통달한 선인이 있었어.\n",
      "____________마을 사람들은 모두 그 선인에게 수많은 질문을 했고, 모두 지혜롭게 대답해 주었지.\n",
      "____________그의 답은 대부분 옳았다고 하네. 그런데 어느 날, 그 선인에게 한 선비가 찾아와서 물었어.\"\n",
      "________________\"재귀함수가 뭔가요?\"\n",
      "________________\"재귀함수는 자기 자신을 호출하는 함수라네\"\n",
      "________________라고 답변하였지.\n",
      "____________라고 답변하였지.\n",
      "________라고 답변하였지.\n",
      "____라고 답변하였지.\n",
      "라고 답변하였지.\n"
     ]
    }
   ],
   "source": [
    "n = int(input())\n",
    "print('어느 한 컴퓨터공학과 학생이 유명한 교수님을 찾아가 물었다.')\n",
    "for i in range(n+1):\n",
    "    if i < n:\n",
    "        print('____'*i + '\"재귀함수가 뭔가요?\"')\n",
    "        print('____'*i + '\"잘 들어보게. 옛날옛날 한 산 꼭대기에 이세상 모든 지식을 통달한 선인이 있었어.')\n",
    "        print('____'*i + '마을 사람들은 모두 그 선인에게 수많은 질문을 했고, 모두 지혜롭게 대답해 주었지.')\n",
    "        print('____'*i + '그의 답은 대부분 옳았다고 하네. 그런데 어느 날, 그 선인에게 한 선비가 찾아와서 물었어.\"')\n",
    "    elif i == n:\n",
    "        print('____'*i + '\"재귀함수가 뭔가요?\"')\n",
    "        print('____'*i + '\"재귀함수는 자기 자신을 호출하는 함수라네\"')\n",
    "for i in range(n,-1,-1):\n",
    "    print('____'*i + '라고 답변하였지.')"
   ]
  },
  {
   "cell_type": "markdown",
   "id": "e59a05d9",
   "metadata": {},
   "source": [
    "## 풀이\n",
    "1. for 문 반복 시 마지막만 글귀가 다르므로 if i==n: 를 추가\n",
    "1. 마지막 문장은 마지막부터 순서를 반대로 반복\n",
    "1. 문자열 * 숫자는 문자열의 반복횟수"
   ]
  }
 ],
 "metadata": {
  "kernelspec": {
   "display_name": "Python 3 (ipykernel)",
   "language": "python",
   "name": "python3"
  },
  "language_info": {
   "codemirror_mode": {
    "name": "ipython",
    "version": 3
   },
   "file_extension": ".py",
   "mimetype": "text/x-python",
   "name": "python",
   "nbconvert_exporter": "python",
   "pygments_lexer": "ipython3",
   "version": "3.9.7"
  },
  "toc": {
   "base_numbering": 1,
   "nav_menu": {},
   "number_sections": true,
   "sideBar": true,
   "skip_h1_title": false,
   "title_cell": "Table of Contents",
   "title_sidebar": "Contents",
   "toc_cell": false,
   "toc_position": {},
   "toc_section_display": true,
   "toc_window_display": false
  }
 },
 "nbformat": 4,
 "nbformat_minor": 5
}
