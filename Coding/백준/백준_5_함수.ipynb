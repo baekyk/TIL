{
 "cells": [
  {
   "cell_type": "markdown",
   "id": "867c9d84",
   "metadata": {},
   "source": [
    "## 15596번 정수 N개의 합\n",
    "a: 합을 구해야 하는 정수 n개가 저장되어 있는 리스트 (0 ≤ a[i] ≤ 1,000,000, 1 ≤ n ≤ 3,000,000)\n",
    "리턴값: a에 포함되어 있는 정수 n개의 합 (정수)"
   ]
  },
  {
   "cell_type": "code",
   "execution_count": null,
   "id": "7ecaecca",
   "metadata": {},
   "outputs": [],
   "source": [
    "def solve(a):\n",
    "    for i in range(len(a)):\n",
    "        sum = 0\n",
    "        sum = sum + a[i]\n",
    "    return sum"
   ]
  },
  {
   "cell_type": "markdown",
   "id": "31063c4c",
   "metadata": {},
   "source": [
    "## 4673번 셀프넘버"
   ]
  },
  {
   "cell_type": "code",
   "execution_count": null,
   "id": "2a609b52",
   "metadata": {},
   "outputs": [],
   "source": [
    "numbers = list(range(1, 10001))\n",
    "remove_list = []  # 이후에 삭제할 숫자 list\n",
    "for num in numbers :\n",
    "    for n in str(num):\n",
    "        num += int(n)  # 생성자가 있는 숫자\n",
    "    if num <= 10000:  # 10,000보다 작거나 같을 때만,\n",
    "        remove_list.append(num)  # append: 리스트에 요소를 추가할 때\n",
    "\n",
    "for remove_num in set(remove_list) :  # set 으로 중복값 제거\n",
    "    numbers.remove(remove_num)\n",
    "for self_num in numbers :  # 생성자가 있는 숫자를 삭제한 리스트\n",
    "    print(self_num)"
   ]
  },
  {
   "cell_type": "markdown",
   "id": "dbadeecf",
   "metadata": {},
   "source": [
    "## 1065번 한수\n",
    "어떤 양의 정수 X의 각 자리가 등차수열을 이룬다면, 그 수를 한수라고 한다. 등차수열은 연속된 두 개의 수의 차이가 일정한 수열을 말한다. N이 주어졌을 때, 1보다 크거나 같고, N보다 작거나 같은 한수의 개수를 출력하는 프로그램을 작성하시오. "
   ]
  },
  {
   "cell_type": "code",
   "execution_count": null,
   "id": "1baf5293",
   "metadata": {},
   "outputs": [],
   "source": [
    "n = int(input())\n",
    "def hansu():\n",
    "    "
   ]
  }
 ],
 "metadata": {
  "kernelspec": {
   "display_name": "Python 3 (ipykernel)",
   "language": "python",
   "name": "python3"
  },
  "language_info": {
   "codemirror_mode": {
    "name": "ipython",
    "version": 3
   },
   "file_extension": ".py",
   "mimetype": "text/x-python",
   "name": "python",
   "nbconvert_exporter": "python",
   "pygments_lexer": "ipython3",
   "version": "3.9.7"
  },
  "toc": {
   "base_numbering": 1,
   "nav_menu": {},
   "number_sections": true,
   "sideBar": true,
   "skip_h1_title": false,
   "title_cell": "Table of Contents",
   "title_sidebar": "Contents",
   "toc_cell": false,
   "toc_position": {},
   "toc_section_display": true,
   "toc_window_display": false
  }
 },
 "nbformat": 4,
 "nbformat_minor": 5
}
