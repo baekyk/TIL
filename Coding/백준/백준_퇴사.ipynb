{
 "cells": [
  {
   "cell_type": "markdown",
   "metadata": {},
   "source": [
    "### 14501번 퇴사"
   ]
  },
  {
   "cell_type": "code",
   "execution_count": 1,
   "metadata": {},
   "outputs": [],
   "source": [
    "import sys, io\n",
    "file = open(\"inputs.txt\", 'w')\n",
    "# 다음 데이터에 그대로 여러 데이터를 복사붙여넣기 하면 됨\n",
    "data = \"\"\"10\n",
    "5 50\n",
    "4 40\n",
    "3 30\n",
    "2 20\n",
    "1 10\n",
    "1 10\n",
    "2 20\n",
    "3 30\n",
    "4 40\n",
    "5 50\n",
    "\"\"\"\n",
    "file.write(data)\n",
    "file.close()\n",
    "input_file = open(\"inputs.txt\", \"r\") \n",
    "sys.stdin = io.StringIO(input_file.read())"
   ]
  },
  {
   "cell_type": "code",
   "execution_count": 2,
   "metadata": {},
   "outputs": [
    {
     "name": "stdout",
     "output_type": "stream",
     "text": [
      "90\n"
     ]
    }
   ],
   "source": [
    "input = sys.stdin.readline\n",
    "\n",
    "N = int(input())\n",
    "\n",
    "t, p, dp = list(),list(),list()\n",
    "for _ in range(N):\n",
    "    A, B = map(int,input().split())\n",
    "    t.append(A)\n",
    "    p.append(B)\n",
    "    dp.append(0)\n",
    "dp.append(0)\n",
    "\n",
    "for i in range(N-1,-1,-1):\n",
    "    if (t[i]+i) > N:\n",
    "        dp[i] = dp[i+1]\n",
    "    else:\n",
    "        dp[i] = max(dp[i+1], p[i]+dp[i+t[i]])\n",
    "print(dp[0])\n"
   ]
  }
 ],
 "metadata": {
  "kernelspec": {
   "display_name": "Python 3.8.8 ('base')",
   "language": "python",
   "name": "python3"
  },
  "language_info": {
   "codemirror_mode": {
    "name": "ipython",
    "version": 3
   },
   "file_extension": ".py",
   "mimetype": "text/x-python",
   "name": "python",
   "nbconvert_exporter": "python",
   "pygments_lexer": "ipython3",
   "version": "3.8.8"
  },
  "orig_nbformat": 4,
  "vscode": {
   "interpreter": {
    "hash": "ff4f85d6e04298634172ac5d8264e7e9b556b95639fe52ebb9425c4d4cba0c9c"
   }
  }
 },
 "nbformat": 4,
 "nbformat_minor": 2
}
