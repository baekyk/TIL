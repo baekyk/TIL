{
 "cells": [
  {
   "cell_type": "markdown",
   "id": "39bafd99",
   "metadata": {},
   "source": [
    "## 15649번 N과 M(1)\n",
    "자연수 N과 M이 주어졌을 때, 아래 조건을 만족하는 길이가 M인 수열을 모두 구하는 프로그램을 작성하시오.\n",
    "\n",
    "1부터 N까지 자연수 중에서 중복 없이 M개를 고른 수열"
   ]
  },
  {
   "cell_type": "code",
   "execution_count": 13,
   "id": "a8558818",
   "metadata": {
    "ExecuteTime": {
     "end_time": "2022-05-08T06:41:45.202962Z",
     "start_time": "2022-05-08T06:41:44.423897Z"
    },
    "scrolled": true
   },
   "outputs": [
    {
     "name": "stdout",
     "output_type": "stream",
     "text": [
      "4 2\n",
      "1 2 \n",
      "1 3 \n",
      "1 4 \n",
      "2 1 \n",
      "2 3 \n",
      "2 4 \n",
      "3 1 \n",
      "3 2 \n",
      "3 4 \n",
      "4 1 \n",
      "4 2 \n",
      "4 3 \n"
     ]
    }
   ],
   "source": [
    "n,m = map(int,input().split())\n",
    "out = []\n",
    "visited = [False]*(n+1)\n",
    "\n",
    "def dfs(depth):\n",
    "    if depth == m+1:\n",
    "        for i in range(len(out)):\n",
    "            print(out[i],end=' ')\n",
    "        print()\n",
    "        return\n",
    "    for num in range(1,n+1):\n",
    "        if not visited[num]:\n",
    "            visited[num] = True\n",
    "            out.append(num)\n",
    "            dfs(depth+1)\n",
    "            visited[num] = False\n",
    "            out.pop()\n",
    "dfs(1)"
   ]
  },
  {
   "cell_type": "markdown",
   "id": "a7823f66",
   "metadata": {},
   "source": [
    "## 15650번 N과 M(2)\n",
    "자연수 N과 M이 주어졌을 때, 아래 조건을 만족하는 길이가 M인 수열을 모두 구하는 프로그램을 작성하시오.\n",
    "\n",
    "1부터 N까지 자연수 중에서 중복 없이 M개를 고른 수열\n",
    "고른 수열은 오름차순이어야 한다."
   ]
  },
  {
   "cell_type": "code",
   "execution_count": 15,
   "id": "9b7dbb2d",
   "metadata": {
    "ExecuteTime": {
     "end_time": "2022-05-08T06:46:38.169560Z",
     "start_time": "2022-05-08T06:46:37.415297Z"
    }
   },
   "outputs": [
    {
     "name": "stdout",
     "output_type": "stream",
     "text": [
      "4 4\n",
      "1 2 3 4 \n"
     ]
    }
   ],
   "source": [
    "n,m = map(int,input().split())\n",
    "out = []\n",
    "visited = [False]*(n+1)\n",
    "\n",
    "def dfs(start):\n",
    "    if len(out) == m:\n",
    "        for i in range(len(out)):\n",
    "            print(out[i],end=' ')\n",
    "        print()\n",
    "        return\n",
    "    for num in range(start,n+1):\n",
    "        if not visited[num]:\n",
    "            visited[num] = True\n",
    "            out.append(num)\n",
    "            dfs(num+1)\n",
    "            visited[num] = False\n",
    "            out.pop()\n",
    "dfs(1)"
   ]
  }
 ],
 "metadata": {
  "kernelspec": {
   "display_name": "Python 3 (ipykernel)",
   "language": "python",
   "name": "python3"
  },
  "language_info": {
   "codemirror_mode": {
    "name": "ipython",
    "version": 3
   },
   "file_extension": ".py",
   "mimetype": "text/x-python",
   "name": "python",
   "nbconvert_exporter": "python",
   "pygments_lexer": "ipython3",
   "version": "3.9.7"
  },
  "toc": {
   "base_numbering": 1,
   "nav_menu": {},
   "number_sections": true,
   "sideBar": true,
   "skip_h1_title": false,
   "title_cell": "Table of Contents",
   "title_sidebar": "Contents",
   "toc_cell": false,
   "toc_position": {},
   "toc_section_display": true,
   "toc_window_display": false
  }
 },
 "nbformat": 4,
 "nbformat_minor": 5
}
