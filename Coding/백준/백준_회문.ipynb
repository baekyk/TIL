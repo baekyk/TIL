{
 "cells": [
  {
   "cell_type": "markdown",
   "metadata": {},
   "source": [
    "### 17609번 회문"
   ]
  },
  {
   "cell_type": "code",
   "execution_count": 1,
   "metadata": {},
   "outputs": [],
   "source": [
    "import sys, io\n",
    "file = open(\"inputs.txt\", 'w')\n",
    "# 다음 데이터에 그대로 여러 데이터를 복사붙여넣기 하면 됨\n",
    "data = \"\"\"7\n",
    "abba\n",
    "summuus\n",
    "xabba\n",
    "xabbay\n",
    "comcom\n",
    "comwwmoc\n",
    "comwwtmoc\n",
    "\"\"\"\n",
    "file.write(data)\n",
    "file.close()\n",
    "input_file = open(\"inputs.txt\", \"r\") \n",
    "sys.stdin = io.StringIO(input_file.read())"
   ]
  },
  {
   "cell_type": "code",
   "execution_count": 2,
   "metadata": {},
   "outputs": [
    {
     "name": "stdout",
     "output_type": "stream",
     "text": [
      "0\n",
      "1\n",
      "1\n",
      "2\n",
      "2\n",
      "0\n",
      "1\n"
     ]
    }
   ],
   "source": [
    "import sys\n",
    "input = sys.stdin.readline\n",
    "\n",
    "\n",
    "def is_palindrome(word):\n",
    "    left = 0\n",
    "    right = len(word)-1\n",
    "    \n",
    "    while left<right:\n",
    "        if word[left] == word[right]:\n",
    "            left +=1\n",
    "            right -=1\n",
    "        else:\n",
    "            if left < right-1:\n",
    "                pseudo = word[:right] + word[right+1:]\n",
    "                if pseudo == pseudo[::-1]:\n",
    "                    return 1\n",
    "            if left-1 < right:\n",
    "                pseudo = word[:left] + word[left+1:]\n",
    "                if pseudo == pseudo[::-1]:\n",
    "                    return 1\n",
    "            return 2\n",
    "    return 0\n",
    "\n",
    "T = int(input())\n",
    "\n",
    "for _ in range(T):\n",
    "    word = input().strip()\n",
    "    print(is_palindrome(word))\n",
    "\n",
    "    "
   ]
  }
 ],
 "metadata": {
  "kernelspec": {
   "display_name": "Python 3.8.8 ('base')",
   "language": "python",
   "name": "python3"
  },
  "language_info": {
   "codemirror_mode": {
    "name": "ipython",
    "version": 3
   },
   "file_extension": ".py",
   "mimetype": "text/x-python",
   "name": "python",
   "nbconvert_exporter": "python",
   "pygments_lexer": "ipython3",
   "version": "3.8.8"
  },
  "orig_nbformat": 4,
  "vscode": {
   "interpreter": {
    "hash": "ff4f85d6e04298634172ac5d8264e7e9b556b95639fe52ebb9425c4d4cba0c9c"
   }
  }
 },
 "nbformat": 4,
 "nbformat_minor": 2
}
