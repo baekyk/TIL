{
 "cells": [
  {
   "cell_type": "markdown",
   "id": "8931debd",
   "metadata": {},
   "source": [
    "## 2798번 블랙잭\n",
    "김정인 버전의 블랙잭에서 각 카드에는 양의 정수가 쓰여 있다. 그 다음, 딜러는 N장의 카드를 모두 숫자가 보이도록 바닥에 놓는다. 그런 후에 딜러는 숫자 M을 크게 외친다.\n",
    "\n",
    "이제 플레이어는 제한된 시간 안에 N장의 카드 중에서 3장의 카드를 골라야 한다. 블랙잭 변형 게임이기 때문에, 플레이어가 고른 카드의 합은 M을 넘지 않으면서 M과 최대한 가깝게 만들어야 한다.\n",
    "\n",
    "N장의 카드에 써져 있는 숫자가 주어졌을 때, M을 넘지 않으면서 M에 최대한 가까운 카드 3장의 합을 구해 출력하시오."
   ]
  },
  {
   "cell_type": "code",
   "execution_count": 3,
   "id": "563df9e8",
   "metadata": {
    "ExecuteTime": {
     "end_time": "2022-05-03T14:38:09.497902Z",
     "start_time": "2022-05-03T14:37:54.988084Z"
    }
   },
   "outputs": [
    {
     "name": "stdout",
     "output_type": "stream",
     "text": [
      "10 500\n",
      "93 181 245 214 315 36 185 138 216 295\n",
      "497\n"
     ]
    }
   ],
   "source": [
    "n, m = map(int,input().split())\n",
    "n_list = list(map(int,input().split()))\n",
    "sum_max = 0\n",
    "for i in range(n):\n",
    "    for j in range(i+1,n):\n",
    "        for k in range(j+1,n):\n",
    "            if n_list[i] + n_list[j] + n_list[k] > m:\n",
    "                continue\n",
    "            else:\n",
    "                sum_max = max(sum_max,n_list[i] + n_list[j] + n_list[k])\n",
    "print(sum_max)"
   ]
  },
  {
   "cell_type": "markdown",
   "id": "1e965dcd",
   "metadata": {},
   "source": [
    "## 1436번 영화감독 숌\n",
    "제일 작은 종말의 숫자는 666이고, 그 다음으로 큰 수는 1666, 2666, 3666, .... 과 같다.\n",
    "\n",
    "따라서, 숌은 첫 번째 영화의 제목은 세상의 종말 666, 두 번째 영화의 제목은 세상의 종말 1666 이렇게 이름을 지을 것이다. 일반화해서 생각하면, N번째 영화의 제목은 세상의 종말 (N번째로 작은 종말의 숫자) 와 같다.\n",
    "\n",
    "숌이 만든 N번째 영화의 제목에 들어간 숫자를 출력하는 프로그램을 작성하시오. 숌은 이 시리즈를 항상 차례대로 만들고, 다른 영화는 만들지 않는다."
   ]
  },
  {
   "cell_type": "code",
   "execution_count": 100,
   "id": "8ceb826a",
   "metadata": {},
   "outputs": [
    {
     "name": "stdout",
     "output_type": "stream",
     "text": [
      "166699\n"
     ]
    }
   ],
   "source": [
    "n = int(input())\n",
    "num = 666\n",
    "cnt = 0\n",
    "while(1):\n",
    "    if '666' in str(num):\n",
    "        cnt += 1\n",
    "    if cnt == n:\n",
    "        print(num)\n",
    "        break\n",
    "    num += 1\n",
    "    "
   ]
  },
  {
   "cell_type": "markdown",
   "id": "703d4ffa",
   "metadata": {},
   "source": [
    "### 풀이\n",
    "1. 666부터 1씩 더하면서 숫자 안에 '666'을 포함하는 숫자를 카운팅한다\n",
    "1. 카운팅 한 숫자가 n과 같을때의 숫자를 출력"
   ]
  }
 ],
 "metadata": {
  "kernelspec": {
   "display_name": "Python 3 (ipykernel)",
   "language": "python",
   "name": "python3"
  },
  "language_info": {
   "codemirror_mode": {
    "name": "ipython",
    "version": 3
   },
   "file_extension": ".py",
   "mimetype": "text/x-python",
   "name": "python",
   "nbconvert_exporter": "python",
   "pygments_lexer": "ipython3",
   "version": "3.8.13"
  },
  "toc": {
   "base_numbering": 1,
   "nav_menu": {},
   "number_sections": true,
   "sideBar": true,
   "skip_h1_title": false,
   "title_cell": "Table of Contents",
   "title_sidebar": "Contents",
   "toc_cell": false,
   "toc_position": {},
   "toc_section_display": true,
   "toc_window_display": false
  }
 },
 "nbformat": 4,
 "nbformat_minor": 5
}
