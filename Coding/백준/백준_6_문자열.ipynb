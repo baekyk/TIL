{
 "cells": [
  {
   "cell_type": "markdown",
   "id": "f4a228f8",
   "metadata": {},
   "source": [
    "## 11654번 아스키코드\n",
    "알파벳 소문자, 대문자, 숫자 0-9중 하나가 주어졌을 때, 주어진 글자의 아스키 코드값을 출력하는 프로그램을 작성하시오."
   ]
  },
  {
   "cell_type": "code",
   "execution_count": 9,
   "id": "dc76ed9b",
   "metadata": {
    "ExecuteTime": {
     "end_time": "2022-04-25T15:19:34.906720Z",
     "start_time": "2022-04-25T15:19:31.755633Z"
    }
   },
   "outputs": [
    {
     "name": "stdout",
     "output_type": "stream",
     "text": [
      "A\n",
      "65\n"
     ]
    }
   ],
   "source": [
    "a = input()\n",
    "print(ord(a))"
   ]
  },
  {
   "cell_type": "markdown",
   "id": "9ac49353",
   "metadata": {},
   "source": [
    "## 11720번 숫자의 합\n",
    "N개의 숫자가 공백 없이 쓰여있다. 이 숫자를 모두 합해서 출력하는 프로그램을 작성하시오."
   ]
  },
  {
   "cell_type": "code",
   "execution_count": 11,
   "id": "10c4aa15",
   "metadata": {
    "ExecuteTime": {
     "end_time": "2022-04-25T15:22:55.386102Z",
     "start_time": "2022-04-25T15:22:49.098720Z"
    }
   },
   "outputs": [
    {
     "name": "stdout",
     "output_type": "stream",
     "text": [
      "11\n",
      "10987654321\n",
      "46\n"
     ]
    }
   ],
   "source": [
    "n = int(input())\n",
    "a = list(input())\n",
    "sum = 0\n",
    "for i in a:\n",
    "    sum = sum + int(i)\n",
    "\n",
    "print(sum)"
   ]
  },
  {
   "cell_type": "markdown",
   "id": "803ab3d9",
   "metadata": {},
   "source": [
    "## 10809번 알파벳 찾기\n",
    "알파벳 소문자로만 이루어진 단어 S가 주어진다. 각각의 알파벳에 대해서, 단어에 포함되어 있는 경우에는 처음 등장하는 위치를, 포함되어 있지 않은 경우에는 -1을 출력하는 프로그램을 작성하시오."
   ]
  },
  {
   "cell_type": "code",
   "execution_count": 12,
   "id": "105d9301",
   "metadata": {
    "ExecuteTime": {
     "end_time": "2022-04-25T15:32:31.510158Z",
     "start_time": "2022-04-25T15:32:27.516238Z"
    }
   },
   "outputs": [
    {
     "name": "stdout",
     "output_type": "stream",
     "text": [
      "baek\n",
      "1 0 -1 -1 2 -1 -1 -1 -1 -1 3 -1 -1 -1 -1 -1 -1 -1 -1 -1 -1 -1 -1 -1 -1 -1 "
     ]
    }
   ],
   "source": [
    "s = input()\n",
    "list = [i for i in range(97,123)]\n",
    "for j in list:\n",
    "    print(s.find(chr(j)),end=\" \")"
   ]
  },
  {
   "cell_type": "markdown",
   "id": "ff5f6048",
   "metadata": {},
   "source": [
    "## 2675번 문자열 반복"
   ]
  },
  {
   "cell_type": "code",
   "execution_count": 18,
   "id": "81c5b1e4",
   "metadata": {
    "ExecuteTime": {
     "end_time": "2022-04-25T15:45:03.005827Z",
     "start_time": "2022-04-25T15:44:55.339513Z"
    }
   },
   "outputs": [
    {
     "name": "stdout",
     "output_type": "stream",
     "text": [
      "2\n",
      "3 ABC\n",
      "AAABBBCCC\n",
      "5 ?HTP\n",
      "?????HHHHHTTTTTPPPPP\n"
     ]
    }
   ],
   "source": [
    "n = int(input())\n",
    "for i in range(n):\n",
    "    r, s = input().split()\n",
    "    for j in s:\n",
    "        print(int(r)*j,end='')\n",
    "    print('')"
   ]
  },
  {
   "cell_type": "code",
   "execution_count": null,
   "id": "76c38693",
   "metadata": {},
   "outputs": [],
   "source": []
  }
 ],
 "metadata": {
  "kernelspec": {
   "display_name": "Python 3 (ipykernel)",
   "language": "python",
   "name": "python3"
  },
  "language_info": {
   "codemirror_mode": {
    "name": "ipython",
    "version": 3
   },
   "file_extension": ".py",
   "mimetype": "text/x-python",
   "name": "python",
   "nbconvert_exporter": "python",
   "pygments_lexer": "ipython3",
   "version": "3.9.7"
  },
  "toc": {
   "base_numbering": 1,
   "nav_menu": {},
   "number_sections": true,
   "sideBar": true,
   "skip_h1_title": false,
   "title_cell": "Table of Contents",
   "title_sidebar": "Contents",
   "toc_cell": false,
   "toc_position": {},
   "toc_section_display": true,
   "toc_window_display": false
  }
 },
 "nbformat": 4,
 "nbformat_minor": 5
}
