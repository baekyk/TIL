{
 "cells": [
  {
   "cell_type": "markdown",
   "metadata": {},
   "source": [
    "## 2292번 벌집\n",
    "위의 그림과 같이 육각형으로 이루어진 벌집이 있다. 그림에서 보는 바와 같이 중앙의 방 1부터 시작해서 이웃하는 방에 돌아가면서 1씩 증가하는 번호를 주소로 매길 수 있다. 숫자 N이 주어졌을 때, 벌집의 중앙 1에서 N번 방까지 최소 개수의 방을 지나서 갈 때 몇 개의 방을 지나가는지(시작과 끝을 포함하여)를 계산하는 프로그램을 작성하시오. 예를 들면, 13까지는 3개, 58까지는 5개를 지난다."
   ]
  },
  {
   "cell_type": "code",
   "execution_count": 43,
   "metadata": {
    "ExecuteTime": {
     "end_time": "2022-04-27T11:23:54.029996Z",
     "start_time": "2022-04-27T11:23:53.014218Z"
    }
   },
   "outputs": [
    {
     "name": "stdout",
     "output_type": "stream",
     "text": [
      "5\n",
      "2\n"
     ]
    }
   ],
   "source": [
    "n = int(input())\n",
    "\n",
    "num = 1\n",
    "i = 0\n",
    "while(1):\n",
    "    num = num + (6*i)\n",
    "    if n==1:\n",
    "        print(1)\n",
    "        break\n",
    "    elif (n > num) & (n <= num + (6*(i+1))):\n",
    "        print(i+2)\n",
    "        break\n",
    "    i += 1"
   ]
  },
  {
   "cell_type": "markdown",
   "metadata": {},
   "source": [
    "### 풀이\n",
    "1. 숫자 1을 기준으로 한 층씩 숫자로 감싸질때 한 층의 숫자의 총 갯수는 6의 배수 크기만큼 늘어난다\n",
    "- 1층 6개, 2층 12개, 3층 18개 ...  \n",
    "\n",
    "2. 층 별로 구간을 나눠 입력 값 n이 몇 층에 포함되는지 본다\n",
    "- 예외로 입력 값 n이 1일때는 바로 1을 출력\n",
    "- 층이 올라갈수록 6의 배수 갯수만큼 늘어나므로 각 층의 가장 큰 수를 생각한다\n",
    "- 최대값 : 1층 = 7, 2층 = 19, 3층 =37 ..."
   ]
  },
  {
   "cell_type": "code",
   "execution_count": null,
   "metadata": {},
   "outputs": [],
   "source": [
    "\n",
    "n = int(input())\n",
    "\n",
    "num = 0\n",
    "i = 0\n",
    "while(1):\n",
    "    num = num + (6*i)\n",
    "    if n==1:\n",
    "        print(1)\n",
    "        break\n",
    "    elif (n > num) & (n <= num + (6*(i+1))):\n",
    "        print(i+2)\n",
    "        break\n",
    "    i += 1"
   ]
  },
  {
   "cell_type": "markdown",
   "metadata": {},
   "source": [
    "### 오답\n",
    "반복문에 들어갈 변수를 초기화 할때  \n",
    "반복문 제일 첫번째 줄 num = num + (6*i) 에서 num이 1로 증가 할것이라고 생각했는데 실제로 증가하지않고 0 이었음\n",
    "\n",
    "if 와 elif 두가지 조건만 걸었는데, 무한루프에 빠질 상황을 대비에서 else문에 무한루프를 막아줄 조건을 적어주는것이 좋을 것 같다"
   ]
  },
  {
   "cell_type": "markdown",
   "metadata": {},
   "source": [
    "---"
   ]
  },
  {
   "cell_type": "markdown",
   "metadata": {},
   "source": [
    "## 10250번 ACM호텔"
   ]
  },
  {
   "cell_type": "code",
   "execution_count": 24,
   "metadata": {
    "ExecuteTime": {
     "end_time": "2022-04-27T12:20:42.424954Z",
     "start_time": "2022-04-27T12:20:33.537125Z"
    }
   },
   "outputs": [
    {
     "name": "stdout",
     "output_type": "stream",
     "text": [
      "402\n",
      "1203\n"
     ]
    }
   ],
   "source": [
    "t = int(input())\n",
    "for i in range(t):\n",
    "    h,w,n = map(int,input().split())\n",
    "    \n",
    "    if n%h ==0:\n",
    "        floor = (n-1)%h+1\n",
    "        num = n//h\n",
    "    else:\n",
    "        floor = n%h\n",
    "        num = (n//h)+1\n",
    "    print(str(floor)+str(f'{num:02d}'))"
   ]
  },
  {
   "cell_type": "markdown",
   "metadata": {},
   "source": [
    "### 풀이\n",
    "1. floor\n",
    "- n번째 손님 이므로 숫자 n을 건물의 층수 h로 나눴을 때 나머지가 해당 층수\n",
    "- 가장 위층의 경우 나머지가 0이 되므로 아래층의 값에 +1을 했다  \n",
    "\n",
    "2. num(방번호)\n",
    "- 가장 앞쪽의 객실이 모두 채워진 후 두번째 객실이 채워지므로 n을 h로 나눴을때 목 +1  \n",
    "\n",
    "\n",
    "3. 두 숫자를 합쳐줘야 하기때문에 문자열로 바꾼뒤 붙여줬다"
   ]
  }
 ],
 "metadata": {
  "interpreter": {
   "hash": "31f2aee4e71d21fbe5cf8b01ff0e069b9275f58929596ceb00d14d90e3e16cd6"
  },
  "kernelspec": {
   "display_name": "Python 3 (ipykernel)",
   "language": "python",
   "name": "python3"
  },
  "language_info": {
   "codemirror_mode": {
    "name": "ipython",
    "version": 3
   },
   "file_extension": ".py",
   "mimetype": "text/x-python",
   "name": "python",
   "nbconvert_exporter": "python",
   "pygments_lexer": "ipython3",
   "version": "3.8.13"
  },
  "toc": {
   "base_numbering": 1,
   "nav_menu": {},
   "number_sections": true,
   "sideBar": true,
   "skip_h1_title": false,
   "title_cell": "Table of Contents",
   "title_sidebar": "Contents",
   "toc_cell": false,
   "toc_position": {},
   "toc_section_display": true,
   "toc_window_display": false
  }
 },
 "nbformat": 4,
 "nbformat_minor": 2
}
