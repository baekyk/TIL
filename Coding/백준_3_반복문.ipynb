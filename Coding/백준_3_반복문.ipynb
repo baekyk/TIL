{
 "cells": [
  {
   "cell_type": "markdown",
   "id": "665fcd71",
   "metadata": {},
   "source": [
    "## 2739번 구구단"
   ]
  },
  {
   "cell_type": "code",
   "execution_count": 5,
   "id": "a39b7f4b",
   "metadata": {
    "scrolled": true
   },
   "outputs": [
    {
     "name": "stdout",
     "output_type": "stream",
     "text": [
      "3\n",
      "3 * 1 = 3\n",
      "3 * 2 = 6\n",
      "3 * 3 = 9\n",
      "3 * 4 = 12\n",
      "3 * 5 = 15\n",
      "3 * 6 = 18\n",
      "3 * 7 = 21\n",
      "3 * 8 = 24\n",
      "3 * 9 = 27\n"
     ]
    }
   ],
   "source": [
    "a = input()\n",
    "for num in range(1,10):\n",
    "    b = int(a)*num\n",
    "    print(f\"{a} * {num} = {b}\")"
   ]
  },
  {
   "cell_type": "markdown",
   "id": "95694240",
   "metadata": {},
   "source": [
    "## 10950번 A+B-3\n",
    "- 입력 출력 순서 확인"
   ]
  },
  {
   "cell_type": "code",
   "execution_count": 24,
   "id": "be4eca85",
   "metadata": {},
   "outputs": [
    {
     "name": "stdout",
     "output_type": "stream",
     "text": [
      "3\n",
      "1 3\n",
      "4\n",
      "4 5\n",
      "9\n",
      "6 9\n",
      "15\n"
     ]
    }
   ],
   "source": [
    "t = input()\n",
    "for i in range(int(t)):\n",
    "    a, b = input().split()\n",
    "    print(int(a)+int(b))"
   ]
  },
  {
   "cell_type": "markdown",
   "id": "bad4f0c9",
   "metadata": {},
   "source": [
    "## 8393번 합\n",
    "n이 주어졌을 때, 1부터 n까지 합을 구하는 프로그램을 작성하시오."
   ]
  },
  {
   "cell_type": "code",
   "execution_count": 12,
   "id": "dcab1d4e",
   "metadata": {},
   "outputs": [
    {
     "name": "stdout",
     "output_type": "stream",
     "text": [
      "15\n"
     ]
    }
   ],
   "source": [
    "n = int(input())\n",
    "sum = 0\n",
    "for i in range(1,n+1):\n",
    "    sum = sum + i\n",
    "\n",
    "print(sum)"
   ]
  },
  {
   "cell_type": "markdown",
   "id": "b75a8a69",
   "metadata": {},
   "source": [
    "## 15552번 빠른 A+B"
   ]
  },
  {
   "cell_type": "code",
   "execution_count": null,
   "id": "6bd4550a",
   "metadata": {},
   "outputs": [],
   "source": []
  },
  {
   "cell_type": "markdown",
   "id": "0d867a1c",
   "metadata": {},
   "source": [
    "## 2741번 N찍기\n",
    "자연수 N이 주어졌을 때, 1부터 N까지 한 줄에 하나씩 출력하는 프로그램을 작성하시오."
   ]
  },
  {
   "cell_type": "code",
   "execution_count": 14,
   "id": "1117611c",
   "metadata": {},
   "outputs": [
    {
     "name": "stdout",
     "output_type": "stream",
     "text": [
      "1\n",
      "2\n",
      "3\n",
      "4\n",
      "5\n"
     ]
    }
   ],
   "source": [
    "n = int(input())\n",
    "for i in range(1, n+1):\n",
    "    print(i)"
   ]
  },
  {
   "cell_type": "markdown",
   "id": "8884dbbc",
   "metadata": {},
   "source": [
    "## 2742번 가찍N\n",
    "자연수 N이 주어졌을 때, N부터 1까지 한 줄에 하나씩 출력하는 프로그램을 작성하시오."
   ]
  },
  {
   "cell_type": "code",
   "execution_count": 16,
   "id": "706824dc",
   "metadata": {},
   "outputs": [
    {
     "name": "stdout",
     "output_type": "stream",
     "text": [
      "5\n",
      "4\n",
      "3\n",
      "2\n",
      "1\n"
     ]
    }
   ],
   "source": [
    "n = int(input())\n",
    "for i in range(n, 0, -1):\n",
    "    print(i)"
   ]
  },
  {
   "cell_type": "markdown",
   "id": "178ecc91",
   "metadata": {},
   "source": [
    "## 11021번 A+B -7\n",
    "두 정수 A와 B를 입력받은 다음, A+B를 출력하는 프로그램을 작성하시오."
   ]
  },
  {
   "cell_type": "code",
   "execution_count": 19,
   "id": "9cb1be89",
   "metadata": {},
   "outputs": [
    {
     "name": "stdout",
     "output_type": "stream",
     "text": [
      "Case #1: 2\n",
      "Case #2: 5\n",
      "Case #3: 7\n",
      "Case #4: 17\n",
      "Case #5: 7\n"
     ]
    }
   ],
   "source": [
    "n = int(input())\n",
    "for i in range(1,n+1):\n",
    "    a, b =input().split()\n",
    "    sum = int(a)+int(b)\n",
    "    print(f\"Case #{i}: {sum}\")\n"
   ]
  },
  {
   "cell_type": "markdown",
   "id": "1498ea58",
   "metadata": {},
   "source": [
    "## 11022번 A+B -8\n",
    "두 정수 A와 B를 입력받은 다음, A+B를 출력하는 프로그램을 작성하시오."
   ]
  },
  {
   "cell_type": "code",
   "execution_count": 21,
   "id": "ab14c321",
   "metadata": {},
   "outputs": [
    {
     "name": "stdout",
     "output_type": "stream",
     "text": [
      "Case #1: 1 + 1 = 2\n",
      "Case #2: 2 + 3 = 5\n",
      "Case #3: 9 + 8 = 17\n",
      "Case #4: 3 + 4 = 7\n",
      "Case #5: 5 + 2 = 7\n"
     ]
    }
   ],
   "source": [
    "n = int(input())\n",
    "for i in range(1,n+1):\n",
    "    a, b =input().split()\n",
    "    sum = int(a)+int(b)\n",
    "    print(f\"Case #{i}: {a} + {b} = {sum}\")"
   ]
  },
  {
   "cell_type": "markdown",
   "id": "11115cc7",
   "metadata": {},
   "source": [
    "## 2438번 별 찍기-1\n",
    "첫째 줄에는 별 1개, 둘째 줄에는 별 2개, N번째 줄에는 별 N개를 찍는 문제"
   ]
  },
  {
   "cell_type": "code",
   "execution_count": 26,
   "id": "e8708067",
   "metadata": {},
   "outputs": [
    {
     "name": "stdout",
     "output_type": "stream",
     "text": [
      "*\n",
      "**\n",
      "***\n",
      "****\n",
      "*****\n"
     ]
    }
   ],
   "source": [
    "n = int(input())\n",
    "for i in range(1,n+1):\n",
    "    print(\"*\"*i)"
   ]
  },
  {
   "cell_type": "markdown",
   "id": "199621de",
   "metadata": {},
   "source": [
    "## 2439번 별 찍기 -2\n",
    "첫째 줄에는 별 1개, 둘째 줄에는 별 2개, N번째 줄에는 별 N개를 찍는 문제\n",
    "\n",
    "하지만, 오른쪽을 기준으로 정렬한 별(예제 참고)을 출력하시오."
   ]
  },
  {
   "cell_type": "code",
   "execution_count": 30,
   "id": "e35fd899",
   "metadata": {},
   "outputs": [
    {
     "name": "stdout",
     "output_type": "stream",
     "text": [
      "    *\n",
      "   **\n",
      "  ***\n",
      " ****\n",
      "*****\n"
     ]
    }
   ],
   "source": [
    "n = int(input())\n",
    "for i in range(1,n+1):\n",
    "    print((\"*\"*i).rjust(n))"
   ]
  },
  {
   "cell_type": "markdown",
   "id": "4130cbf4",
   "metadata": {},
   "source": [
    "## 10871번 X보다 작은 수\n",
    "정수 N개로 이루어진 수열 A와 정수 X가 주어진다. 이때, A에서 X보다 작은 수를 모두 출력하는 프로그램을 작성하시오."
   ]
  },
  {
   "cell_type": "code",
   "execution_count": 62,
   "id": "785d41ef",
   "metadata": {},
   "outputs": [
    {
     "name": "stdout",
     "output_type": "stream",
     "text": [
      "1 4 2 3 "
     ]
    }
   ],
   "source": [
    "n, x = input().split()\n",
    "a = input().split()\n",
    "b = []\n",
    "for i in range(int(n)):       \n",
    "    if int(a[i]) < int(x):   # 문자열 순서대로 크기 비교\n",
    "        b.append(a[i])       # 조건 만족 요소 추가\n",
    "    else:\n",
    "        continue\n",
    "for j in range(len(b)):\n",
    "    print(b[j], end=' ')\n",
    "\n",
    "\n"
   ]
  },
  {
   "cell_type": "markdown",
   "id": "1aecbc0e",
   "metadata": {},
   "source": [
    "## 10952번 A+B -5\n",
    "두 정수 A와 B를 입력받은 다음, A+B를 출력하는 프로그램을 작성하시오."
   ]
  },
  {
   "cell_type": "code",
   "execution_count": 70,
   "id": "5efa2142",
   "metadata": {},
   "outputs": [
    {
     "name": "stdout",
     "output_type": "stream",
     "text": [
      "3\n"
     ]
    }
   ],
   "source": [
    "while(1):\n",
    "    a, b = input().split()\n",
    "    if (int(a)!=0) & (int(b)!=0):\n",
    "        print(int(a)+int(b))\n",
    "    elif (int(a)==0) & (int(b)==0):\n",
    "        break"
   ]
  },
  {
   "cell_type": "markdown",
   "id": "23981d84",
   "metadata": {},
   "source": [
    "## 10951번 A+B -4"
   ]
  },
  {
   "cell_type": "markdown",
   "id": "2ccba6c4",
   "metadata": {},
   "source": [
    "런타임 에러 남 확인 필요"
   ]
  },
  {
   "cell_type": "code",
   "execution_count": 71,
   "id": "4d3ebd3b",
   "metadata": {},
   "outputs": [
    {
     "name": "stdout",
     "output_type": "stream",
     "text": [
      "8\n",
      "10\n"
     ]
    },
    {
     "ename": "ValueError",
     "evalue": "not enough values to unpack (expected 2, got 0)",
     "output_type": "error",
     "traceback": [
      "\u001b[1;31m---------------------------------------------------------------------------\u001b[0m",
      "\u001b[1;31mValueError\u001b[0m                                Traceback (most recent call last)",
      "\u001b[1;32m~\\AppData\\Local\\Temp/ipykernel_18308/2958547235.py\u001b[0m in \u001b[0;36m<module>\u001b[1;34m\u001b[0m\n\u001b[0;32m      1\u001b[0m \u001b[1;32mwhile\u001b[0m\u001b[1;33m(\u001b[0m\u001b[1;36m1\u001b[0m\u001b[1;33m)\u001b[0m\u001b[1;33m:\u001b[0m\u001b[1;33m\u001b[0m\u001b[1;33m\u001b[0m\u001b[0m\n\u001b[1;32m----> 2\u001b[1;33m     \u001b[0ma\u001b[0m\u001b[1;33m,\u001b[0m \u001b[0mb\u001b[0m \u001b[1;33m=\u001b[0m \u001b[0minput\u001b[0m\u001b[1;33m(\u001b[0m\u001b[1;33m)\u001b[0m\u001b[1;33m.\u001b[0m\u001b[0msplit\u001b[0m\u001b[1;33m(\u001b[0m\u001b[1;33m)\u001b[0m\u001b[1;33m\u001b[0m\u001b[1;33m\u001b[0m\u001b[0m\n\u001b[0m\u001b[0;32m      3\u001b[0m     \u001b[1;32mif\u001b[0m \u001b[1;33m(\u001b[0m\u001b[0mint\u001b[0m\u001b[1;33m(\u001b[0m\u001b[0ma\u001b[0m\u001b[1;33m)\u001b[0m\u001b[1;33m!=\u001b[0m\u001b[1;36m0\u001b[0m\u001b[1;33m)\u001b[0m \u001b[1;33m&\u001b[0m \u001b[1;33m(\u001b[0m\u001b[0mint\u001b[0m\u001b[1;33m(\u001b[0m\u001b[0mb\u001b[0m\u001b[1;33m)\u001b[0m\u001b[1;33m!=\u001b[0m\u001b[1;36m0\u001b[0m\u001b[1;33m)\u001b[0m\u001b[1;33m:\u001b[0m\u001b[1;33m\u001b[0m\u001b[1;33m\u001b[0m\u001b[0m\n\u001b[0;32m      4\u001b[0m         \u001b[0mprint\u001b[0m\u001b[1;33m(\u001b[0m\u001b[0mint\u001b[0m\u001b[1;33m(\u001b[0m\u001b[0ma\u001b[0m\u001b[1;33m)\u001b[0m\u001b[1;33m+\u001b[0m\u001b[0mint\u001b[0m\u001b[1;33m(\u001b[0m\u001b[0mb\u001b[0m\u001b[1;33m)\u001b[0m\u001b[1;33m)\u001b[0m\u001b[1;33m\u001b[0m\u001b[1;33m\u001b[0m\u001b[0m\n",
      "\u001b[1;31mValueError\u001b[0m: not enough values to unpack (expected 2, got 0)"
     ]
    }
   ],
   "source": [
    "while(1):\n",
    "    a, b = input().split()\n",
    "    if (int(a)!=0) & (int(b)!=0):\n",
    "        print(int(a)+int(b))\n",
    "    elif (int(a)==0) | (int(b)==0):\n",
    "        break"
   ]
  },
  {
   "cell_type": "markdown",
   "id": "54fec0c9",
   "metadata": {},
   "source": [
    "## 111번 더하기 사이클"
   ]
  },
  {
   "cell_type": "code",
   "execution_count": 97,
   "id": "adc95315",
   "metadata": {},
   "outputs": [
    {
     "name": "stdout",
     "output_type": "stream",
     "text": [
      "60\n"
     ]
    }
   ],
   "source": [
    "cnt = 0\n",
    "n = input()\n",
    "if len(n) == 1:\n",
    "    n = '0'+ n\n",
    "sum = int(n[0]) + int(n[1])\n",
    "if sum < 10:\n",
    "    merge = n[1] + str(sum)\n",
    "else:\n",
    "    merge = n[1] + str(sum%10)\n",
    "cnt += 1\n",
    "\n",
    "while(1):\n",
    "    if merge == n:\n",
    "        print(cnt)\n",
    "        break\n",
    "    if len(merge) == 1:\n",
    "        merge = '0'+ merge\n",
    "    sum = int(merge[0]) + int(merge[1])\n",
    "    if sum < 10:\n",
    "        merge2 = merge[1] + str(sum)\n",
    "    else:\n",
    "        merge2 = merge[1] + str(sum%10)\n",
    "    cnt += 1\n",
    "    if merge2 == n:\n",
    "        print(cnt)\n",
    "        break\n",
    "    merge = merge2"
   ]
  }
 ],
 "metadata": {
  "kernelspec": {
   "display_name": "Python 3 (ipykernel)",
   "language": "python",
   "name": "python3"
  },
  "language_info": {
   "codemirror_mode": {
    "name": "ipython",
    "version": 3
   },
   "file_extension": ".py",
   "mimetype": "text/x-python",
   "name": "python",
   "nbconvert_exporter": "python",
   "pygments_lexer": "ipython3",
   "version": "3.9.7"
  }
 },
 "nbformat": 4,
 "nbformat_minor": 5
}
