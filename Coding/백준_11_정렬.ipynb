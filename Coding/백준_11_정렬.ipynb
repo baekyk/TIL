{
 "cells": [
  {
   "cell_type": "markdown",
   "id": "80ea0f0d",
   "metadata": {},
   "source": [
    "## 2750번 수 정렬하기\n",
    "N개의 수가 주어졌을 때, 이를 오름차순으로 정렬하는 프로그램을 작성하시오."
   ]
  },
  {
   "cell_type": "markdown",
   "id": "abcb12e6",
   "metadata": {},
   "source": [
    "- 내장함수 sorted 사용"
   ]
  },
  {
   "cell_type": "code",
   "execution_count": 48,
   "id": "eaa83f44",
   "metadata": {
    "ExecuteTime": {
     "end_time": "2022-05-04T13:41:44.552675Z",
     "start_time": "2022-05-04T13:41:39.367667Z"
    }
   },
   "outputs": [
    {
     "name": "stdout",
     "output_type": "stream",
     "text": [
      "5\n",
      "8\n",
      "9\n",
      "40\n",
      "90\n",
      "2\n",
      "2\n",
      "8\n",
      "9\n",
      "40\n",
      "90\n"
     ]
    }
   ],
   "source": [
    "n = int(input())\n",
    "num = []\n",
    "for i in range(n):\n",
    "    num.append(int(input()))\n",
    "num_sort = sorted(num)\n",
    "for i in range(n):\n",
    "    print(num_sort[i])"
   ]
  },
  {
   "cell_type": "markdown",
   "id": "28d9bbab",
   "metadata": {},
   "source": [
    "- min()으로 최솟값을 찾아내어 다른 LIST에 삽입"
   ]
  },
  {
   "cell_type": "code",
   "execution_count": 47,
   "id": "842f2966",
   "metadata": {
    "ExecuteTime": {
     "end_time": "2022-05-04T13:41:35.908074Z",
     "start_time": "2022-05-04T13:41:31.503750Z"
    }
   },
   "outputs": [
    {
     "name": "stdout",
     "output_type": "stream",
     "text": [
      "5\n",
      "8\n",
      "9\n",
      "40\n",
      "90\n",
      "2\n",
      "2\n",
      "8\n",
      "9\n",
      "40\n",
      "90\n"
     ]
    }
   ],
   "source": [
    "n = int(input())\n",
    "num = []\n",
    "num_sort = []\n",
    "for i in range(n):\n",
    "    num.append(int(input()))\n",
    "for i in range(n):\n",
    "    num_sort.append(min(num))\n",
    "    idx = num.index(min(num))\n",
    "    del num[idx]\n",
    "for i in range(n):\n",
    "    print(num_sort[i])"
   ]
  },
  {
   "cell_type": "markdown",
   "id": "888f905e",
   "metadata": {},
   "source": [
    "- 버블정렬"
   ]
  },
  {
   "cell_type": "code",
   "execution_count": 50,
   "id": "ae8a480e",
   "metadata": {
    "ExecuteTime": {
     "end_time": "2022-05-04T13:51:14.415212Z",
     "start_time": "2022-05-04T13:51:08.343697Z"
    }
   },
   "outputs": [
    {
     "name": "stdout",
     "output_type": "stream",
     "text": [
      "5\n",
      "8\n",
      "9\n",
      "40\n",
      "90\n",
      "2\n",
      "2\n",
      "8\n",
      "9\n",
      "40\n",
      "90\n"
     ]
    }
   ],
   "source": [
    "n = int(input())\n",
    "num = []\n",
    "for i in range(n):\n",
    "    num.append(int(input()))\n",
    "\n",
    "for i in range(n):\n",
    "    for j in range(n):\n",
    "        if num[i] < num[j]:\n",
    "            num[i], num[j] = num[j], num[i]\n",
    "for n in num:\n",
    "    print(n)"
   ]
  },
  {
   "cell_type": "markdown",
   "id": "29a84511",
   "metadata": {},
   "source": [
    "- 삽입정렬"
   ]
  },
  {
   "cell_type": "code",
   "execution_count": 3,
   "id": "36805c02",
   "metadata": {
    "ExecuteTime": {
     "end_time": "2022-05-05T07:44:02.081009Z",
     "start_time": "2022-05-05T07:43:55.797300Z"
    }
   },
   "outputs": [
    {
     "name": "stdout",
     "output_type": "stream",
     "text": [
      "5\n",
      "8\n",
      "9\n",
      "40\n",
      "90\n",
      "2\n",
      "2\n",
      "8\n",
      "9\n",
      "40\n",
      "90\n"
     ]
    }
   ],
   "source": [
    "n = int(input())\n",
    "num = []\n",
    "for i in range(n):\n",
    "        num.append(int(input()))\n",
    "        \n",
    "for end in range(1, n):\n",
    "    for i in range(end, 0, -1):\n",
    "        if num[i-1] > num[i]:\n",
    "            num[i-1], num[i] = num[i], num[i-1]\n",
    "for i in range(n):\n",
    "    print(num[i])"
   ]
  },
  {
   "cell_type": "markdown",
   "id": "8c3b4e25",
   "metadata": {},
   "source": [
    "### 풀이\n",
    "위 네가지 중엔 삽입정렬이 가장 느리고 min()으로 최솟값을 찾아내는것이 가장 빨랐음"
   ]
  },
  {
   "cell_type": "markdown",
   "id": "c997e8bd",
   "metadata": {},
   "source": [
    "## 2108번 통계학\n",
    "수를 처리하는 것은 통계학에서 상당히 중요한 일이다. 통계학에서 N개의 수를 대표하는 기본 통계값에는 다음과 같은 것들이 있다. 단, N은 홀수라고 가정하자.\n",
    "\n",
    "산술평균 : N개의 수들의 합을 N으로 나눈 값\n",
    "중앙값 : N개의 수들을 증가하는 순서로 나열했을 경우 그 중앙에 위치하는 값\n",
    "최빈값 : N개의 수들 중 가장 많이 나타나는 값\n",
    "범위 : N개의 수들 중 최댓값과 최솟값의 차이\n",
    "N개의 수가 주어졌을 때, 네 가지 기본 통계값을 구하는 프로그램을 작성하시오."
   ]
  },
  {
   "cell_type": "code",
   "execution_count": null,
   "id": "55754e64",
   "metadata": {},
   "outputs": [],
   "source": [
    "import sys\n",
    "from collections import Counter\n",
    "\n",
    "n = int(sys.stdin.readline())\n",
    "nums = []\n",
    "for i in range(n):\n",
    "    nums.append(int(sys.stdin.readline()))\n",
    "\n",
    "nums.sort()\n",
    "nums_s = Counter(nums).most_common()\n",
    "\n",
    "# 산술평균\n",
    "print(round(sum(nums)/n))\n",
    "\n",
    "# 중앙값\n",
    "print(nums[n//2])\n",
    "\n",
    "# 최빈값\n",
    "\n",
    "if len(nums_s) > 1:\n",
    "    if nums_s[0][1] == nums_s[1][1]:\n",
    "        print(nums_s[1][0])\n",
    "    else:\n",
    "        print(nums_s[0][0])\n",
    "else:\n",
    "    print(nums_s[0][0])\n",
    "    \n",
    "\n",
    "# 범위\n",
    "print(nums[-1] - nums[0])"
   ]
  },
  {
   "cell_type": "markdown",
   "id": "9856d116",
   "metadata": {},
   "source": [
    "### 풀이\n",
    "1. 산술평균 : sum을 이용해 총 합을 갯수로 나눔\n",
    "1. 중앙값 : n이 홀수이므로 2로 나눈 값의 index가 중앙값\n",
    "1. 최빈값 : collections에 Counter 함수를 사용\n",
    "- Counter 함수는 가장 갯수가 많은순서대로 배열시킴\n",
    "- 첫번째 갯수와 두번째 갯수가 같으면 두번째 값을 출력\n",
    "4. 범위 : 가장 큰 값에서 작은 값을 뺌"
   ]
  },
  {
   "cell_type": "markdown",
   "id": "54565d19",
   "metadata": {},
   "source": [
    "Counter 함수 예시"
   ]
  },
  {
   "cell_type": "code",
   "execution_count": 58,
   "id": "a5d26426",
   "metadata": {
    "ExecuteTime": {
     "end_time": "2022-05-07T12:26:48.800457Z",
     "start_time": "2022-05-07T12:26:48.790749Z"
    }
   },
   "outputs": [
    {
     "name": "stdout",
     "output_type": "stream",
     "text": [
      "Counter({'c': 3, 'a': 2, 'b': 2, 'd': 1})\n",
      "[('c', 3), ('a', 2), ('b', 2), ('d', 1)]\n"
     ]
    }
   ],
   "source": [
    "a = ['a','b','c','c','d','b','c','a']\n",
    "print(Counter(a))\n",
    "print(Counter(a).most_common())"
   ]
  }
 ],
 "metadata": {
  "kernelspec": {
   "display_name": "Python 3 (ipykernel)",
   "language": "python",
   "name": "python3"
  },
  "language_info": {
   "codemirror_mode": {
    "name": "ipython",
    "version": 3
   },
   "file_extension": ".py",
   "mimetype": "text/x-python",
   "name": "python",
   "nbconvert_exporter": "python",
   "pygments_lexer": "ipython3",
   "version": "3.9.7"
  },
  "toc": {
   "base_numbering": 1,
   "nav_menu": {},
   "number_sections": true,
   "sideBar": true,
   "skip_h1_title": false,
   "title_cell": "Table of Contents",
   "title_sidebar": "Contents",
   "toc_cell": false,
   "toc_position": {},
   "toc_section_display": true,
   "toc_window_display": false
  }
 },
 "nbformat": 4,
 "nbformat_minor": 5
}
