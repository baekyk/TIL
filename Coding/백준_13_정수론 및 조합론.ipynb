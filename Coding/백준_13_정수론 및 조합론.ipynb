{
 "cells": [
  {
   "cell_type": "markdown",
   "id": "c2d1e365",
   "metadata": {},
   "source": [
    "## 5086번 배수와 약수"
   ]
  },
  {
   "cell_type": "code",
   "execution_count": 4,
   "id": "f795196a",
   "metadata": {
    "ExecuteTime": {
     "end_time": "2022-05-07T13:00:58.167704Z",
     "start_time": "2022-05-07T13:00:54.203232Z"
    }
   },
   "outputs": [
    {
     "name": "stdout",
     "output_type": "stream",
     "text": [
      "8 16\n",
      "factor\n",
      "32 4\n",
      "multiple\n",
      "0 0\n"
     ]
    }
   ],
   "source": [
    "while(1):\n",
    "    a, b = map(int, input().split())\n",
    "    if (a==0) and (b==0):\n",
    "        break\n",
    "    elif (a < b) & (b%a==0):\n",
    "        print('factor')\n",
    "    elif (a > b) & (a%b==0):\n",
    "        print('multiple')\n",
    "    elif (a%b !=0) or (b%a != 0):\n",
    "        print('neither')"
   ]
  },
  {
   "cell_type": "markdown",
   "id": "6824a4d1",
   "metadata": {},
   "source": [
    "## 1037번 약수\n",
    "양수 A가 N의 진짜 약수가 되려면, N이 A의 배수이고, A가 1과 N이 아니어야 한다. 어떤 수 N의 진짜 약수가 모두 주어질 때, N을 구하는 프로그램을 작성하시오."
   ]
  },
  {
   "cell_type": "code",
   "execution_count": 19,
   "id": "dec74fa9",
   "metadata": {
    "ExecuteTime": {
     "end_time": "2022-05-07T13:14:51.358415Z",
     "start_time": "2022-05-07T13:14:47.745687Z"
    },
    "scrolled": true
   },
   "outputs": [
    {
     "name": "stdout",
     "output_type": "stream",
     "text": [
      "6\n",
      "3 4 2 12 6 8\n",
      "24\n"
     ]
    }
   ],
   "source": [
    "n = int(input())\n",
    "num = list(map(int,input().split()))\n",
    "num.sort()\n",
    "print(num[0]*num[-1])"
   ]
  },
  {
   "cell_type": "markdown",
   "id": "4720c0d7",
   "metadata": {},
   "source": [
    "## 2609번 최대공약수와 최소공배수\n",
    "두 개의 자연수를 입력받아 최대 공약수와 최소 공배수를 출력하는 프로그램을 작성하시오."
   ]
  },
  {
   "cell_type": "code",
   "execution_count": 21,
   "id": "ef084bff",
   "metadata": {
    "ExecuteTime": {
     "end_time": "2022-05-07T13:24:34.586086Z",
     "start_time": "2022-05-07T13:24:32.425285Z"
    },
    "scrolled": false
   },
   "outputs": [
    {
     "name": "stdout",
     "output_type": "stream",
     "text": [
      "24 18\n",
      "6\n",
      "72\n"
     ]
    }
   ],
   "source": [
    "a , b = map(int,input().split())\n",
    "mul = a*b\n",
    "while(b>0):\n",
    "    a, b = b, a % b\n",
    "print(a)\n",
    "print(mul//a)"
   ]
  },
  {
   "cell_type": "markdown",
   "id": "e93c9ce9",
   "metadata": {},
   "source": [
    "### 풀이\n",
    "> 유클리드 호제법을 사용\n",
    "- 큰 수를 작은수로 나눈 후 나머지로 작은수를 계속 나눠준다\n",
    "- 나머지가 0이 되면 나누는 수가 최대공약수이다"
   ]
  }
 ],
 "metadata": {
  "kernelspec": {
   "display_name": "Python 3 (ipykernel)",
   "language": "python",
   "name": "python3"
  },
  "language_info": {
   "codemirror_mode": {
    "name": "ipython",
    "version": 3
   },
   "file_extension": ".py",
   "mimetype": "text/x-python",
   "name": "python",
   "nbconvert_exporter": "python",
   "pygments_lexer": "ipython3",
   "version": "3.9.7"
  },
  "toc": {
   "base_numbering": 1,
   "nav_menu": {},
   "number_sections": true,
   "sideBar": true,
   "skip_h1_title": false,
   "title_cell": "Table of Contents",
   "title_sidebar": "Contents",
   "toc_cell": false,
   "toc_position": {},
   "toc_section_display": true,
   "toc_window_display": false
  }
 },
 "nbformat": 4,
 "nbformat_minor": 5
}
